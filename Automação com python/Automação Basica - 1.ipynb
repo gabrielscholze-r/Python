{
 "cells": [
  {
   "cell_type": "code",
   "execution_count": 22,
   "id": "ce56e050",
   "metadata": {},
   "outputs": [],
   "source": [
    "import pyautogui\n",
    "import pyperclip\n",
    "import time\n",
    "\n",
    "#automação da obtenção da base de dados\n",
    "pyautogui.pause = 1\n",
    "\n",
    "pyautogui.hotkey('ctrl','t')\n",
    "link = \"https://drive.google.com/file/d/1-ZJAbFmVBlom9qSDvaSw48EOXpraxTYN/view?usp=sharing\" #base de dados\n",
    "pyperclip.copy(link)\n",
    "pyautogui.hotkey('ctrl','v')\n",
    "pyautogui.press('enter')\n",
    "time.sleep(5)# esperar download\n",
    "pyautogui.click(x=1767, y=130) #pode não funcionar dependendo da posição no botão conforme o tamanho de sua tela\n",
    "time.sleep(5) # esperar download\n",
    "\n",
    "#analise de  dados\n",
    "import pandas as pd\n",
    "tabela = pd.read_excel(r'C:\\Users\\gabri\\Downloads\\Vendas - Dez.xlsx')\n",
    "faturamento = tabela[\"Valor Final\"].sum()\n",
    "quantidade = tabela['Quantidade'].sum()\n",
    "\n",
    "\n",
    "#envio do email\n",
    "pyautogui.pause = 1\n",
    "pyautogui.hotkey('ctrl','t')\n",
    "pyautogui.write('http://gmail.com/')\n",
    "pyautogui.press('enter')\n",
    "time.sleep(10)\n",
    "pyautogui.click(x=63, y=209)\n",
    "time.sleep(4)\n",
    "pyautogui.write(r'gabrielscholze24@gmail.com')\n",
    "pyautogui.press('tab')\n",
    "pyautogui.press('tab')\n",
    "pyautogui.write('Relatorio Diario de vendas')\n",
    "pyautogui.press('tab')\n",
    "pyautogui.write(f'Faturamento diário: R${faturamento}\\nQuantidade de vendas: {quantidade}')\n",
    "pyautogui.press('tab')\n",
    "pyautogui.press('enter')"
   ]
  }
 ],
 "metadata": {
  "kernelspec": {
   "display_name": "Python 3",
   "language": "python",
   "name": "python3"
  },
  "language_info": {
   "codemirror_mode": {
    "name": "ipython",
    "version": 3
   },
   "file_extension": ".py",
   "mimetype": "text/x-python",
   "name": "python",
   "nbconvert_exporter": "python",
   "pygments_lexer": "ipython3",
   "version": "3.8.8"
  }
 },
 "nbformat": 4,
 "nbformat_minor": 5
}
